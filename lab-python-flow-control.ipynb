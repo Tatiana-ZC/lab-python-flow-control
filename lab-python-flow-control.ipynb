{
 "cells": [
  {
   "cell_type": "markdown",
   "id": "d3bfc191-8885-42ee-b0a0-bbab867c6f9f",
   "metadata": {
    "tags": []
   },
   "source": [
    "# Lab | Flow Control"
   ]
  },
  {
   "cell_type": "markdown",
   "id": "3851fcd1-cf98-4653-9c89-e003b7ec9400",
   "metadata": {},
   "source": [
    "## Exercise: Managing Customer Orders Optimized\n",
    "\n",
    "In the last lab, you were starting an online store that sells various products. To ensure smooth operations, you developed a program that manages customer orders and inventory.\n",
    "\n",
    "You did so without using flow control. Let's go a step further and improve this code.\n",
    "\n",
    "Follow the steps below to complete the exercise:\n",
    "\n",
    "1. Look at your code from the lab data structures, and improve repeated code with loops.\n",
    "\n",
    "2. Instead of asking the user to input the name of three products that a customer wants to order, do the following:\n",
    "    \n",
    "    a. Prompt the user to enter the name of a product that a customer wants to order.\n",
    "    \n",
    "    b. Add the product name to the \"customer_orders\" set.\n",
    "    \n",
    "    c. Ask the user if they want to add another product (yes/no).\n",
    "    \n",
    "    d. Continue the loop until the user does not want to add another product.\n",
    "\n",
    "3. Instead of updating the inventory by subtracting 1 from the quantity of each product, only do it for  the products that were ordered (those in \"customer_orders\")."
   ]
  },
  {
   "cell_type": "markdown",
   "id": "fa5d2eee-de15-4628-b853-b9cd5cd04b17",
   "metadata": {},
   "source": [
    "# Solution"
   ]
  },
  {
   "cell_type": "markdown",
   "id": "cc749969-3f4a-4f8c-a77c-65acb16998b5",
   "metadata": {},
   "source": [
    "1. Look at your code from the lab data structures, and improve repeated code with loops."
   ]
  },
  {
   "cell_type": "markdown",
   "id": "1ab6a792-5441-494d-ab5b-7885f51c7ae8",
   "metadata": {},
   "source": [
    "1.1. Define a list called `products` that contains the following items: \"t-shirt\", \"mug\", \"hat\", \"book\", \"keychain\"."
   ]
  },
  {
   "cell_type": "code",
   "execution_count": 291,
   "id": "4ec7b005-2bcf-4314-9ec6-5d51459829e9",
   "metadata": {},
   "outputs": [],
   "source": [
    "products = [\"t-shirt\", \"mug\", \"hat\", \"book\", \"keychain\"]"
   ]
  },
  {
   "cell_type": "markdown",
   "id": "f494886e-4404-4a1e-94e6-1cf44a1967a2",
   "metadata": {},
   "source": [
    "1.2. Create an empty dictionary called `inventory`."
   ]
  },
  {
   "cell_type": "code",
   "execution_count": 293,
   "id": "6a15a247-fa72-497e-8b79-925168b9c31e",
   "metadata": {},
   "outputs": [],
   "source": [
    "inventory = {}"
   ]
  },
  {
   "cell_type": "markdown",
   "id": "a151f390-c79e-4492-b55f-5cd1e7cd425e",
   "metadata": {},
   "source": [
    "1.3. Ask the user to input the quantity of each product available in the inventory. \n",
    "Use the product names from the `products` list as keys in the `inventory` dictionary and assign the respective quantities as values."
   ]
  },
  {
   "cell_type": "code",
   "execution_count": 295,
   "id": "e34bf49e-bcfd-4ecc-a086-c2f48d6249e5",
   "metadata": {},
   "outputs": [
    {
     "name": "stdin",
     "output_type": "stream",
     "text": [
      "For t-shirt enter the inventory:  11\n",
      "For mug enter the inventory:  9\n",
      "For hat enter the inventory:  7\n",
      "For book enter the inventory:  5\n",
      "For keychain enter the inventory:  3\n"
     ]
    },
    {
     "name": "stdout",
     "output_type": "stream",
     "text": [
      "{'t-shirt': 11, 'mug': 9, 'hat': 7, 'book': 5, 'keychain': 3}\n"
     ]
    }
   ],
   "source": [
    "for each_product in products:\n",
    "    product_quantity = int(input(f\"For {each_product} enter the inventory: \"))\n",
    "    inventory[each_product] = product_quantity\n",
    "print(inventory)"
   ]
  },
  {
   "cell_type": "code",
   "execution_count": 296,
   "id": "23f7aee0-8791-4d43-9472-79e7888b0a9b",
   "metadata": {},
   "outputs": [
    {
     "data": {
      "text/plain": [
       "[11, 9, 7, 5, 3]"
      ]
     },
     "execution_count": 296,
     "metadata": {},
     "output_type": "execute_result"
    }
   ],
   "source": [
    "initial_inventory = list(inventory.values())\n",
    "initial_inventory"
   ]
  },
  {
   "cell_type": "markdown",
   "id": "f7a9de15-bca5-48f2-869d-08d0235c1845",
   "metadata": {},
   "source": [
    "1.4. Create an empty set called `customer_orders`."
   ]
  },
  {
   "cell_type": "code",
   "execution_count": 298,
   "id": "bad0bbdc-6688-45cf-88a9-c15b7691ee91",
   "metadata": {},
   "outputs": [
    {
     "data": {
      "text/plain": [
       "set"
      ]
     },
     "execution_count": 298,
     "metadata": {},
     "output_type": "execute_result"
    }
   ],
   "source": [
    "customer_orders = set()\n",
    "type(customer_orders)"
   ]
  },
  {
   "cell_type": "markdown",
   "id": "3b8f68f0-7766-4de3-827e-34858fc73e04",
   "metadata": {},
   "source": [
    "1.5. Ask the user to input the name of three products that a customer wants to order (from those in the products list, meaning three products out of \"t-shirt\", \"mug\", \"hat\", \"book\" or \"keychain\". Add each product name to the `customer_orders` set."
   ]
  },
  {
   "cell_type": "code",
   "execution_count": 300,
   "id": "1a98ec52-4d5a-4a65-8e64-70cb14139a3c",
   "metadata": {},
   "outputs": [
    {
     "name": "stdin",
     "output_type": "stream",
     "text": [
      "Choose a product from: ['t-shirt', 'mug', 'hat', 'book', 'keychain'] to shop:  t-shirt\n"
     ]
    },
    {
     "name": "stdout",
     "output_type": "stream",
     "text": [
      "Congratulations, {customer_orders} added to the cart!\n"
     ]
    },
    {
     "name": "stdin",
     "output_type": "stream",
     "text": [
      "Choose a product from: ['t-shirt', 'mug', 'hat', 'book', 'keychain'] to shop:  mug\n"
     ]
    },
    {
     "name": "stdout",
     "output_type": "stream",
     "text": [
      "Congratulations, {customer_orders} added to the cart!\n"
     ]
    },
    {
     "name": "stdin",
     "output_type": "stream",
     "text": [
      "Choose a product from: ['t-shirt', 'mug', 'hat', 'book', 'keychain'] to shop:  book\n"
     ]
    },
    {
     "name": "stdout",
     "output_type": "stream",
     "text": [
      "Congratulations, {customer_orders} added to the cart!\n",
      "Order finished {'mug', 'book', 't-shirt'}\n"
     ]
    }
   ],
   "source": [
    "customer_orders = set()\n",
    "ordered_products = \"\" # As this variable is going to be used for an input (str), so better to initialize as a string.\n",
    "\n",
    "while len(customer_orders) < 3: # Execute up to when len == 3 which means three valid inputs from user\n",
    "    ordered_products = input(f\"Choose a product from: {products} to shop: \")\n",
    "    if ordered_products not in products:\n",
    "        print(\"Error, please enter a  valid product from the inventory.\")\n",
    "    else:\n",
    "        if ordered_products not in customer_orders:\n",
    "            customer_orders.add(ordered_products)\n",
    "            print(\"Congratulations, {customer_orders} added to the cart!\")\n",
    "        else:\n",
    "            print(f\"Product already ordered {ordered_products}\")\n",
    "\n",
    "\n",
    "print(f\"Order finished {customer_orders}\")"
   ]
  },
  {
   "cell_type": "markdown",
   "id": "1d3df6b6-4fb2-4c17-9c27-8c348bf60522",
   "metadata": {},
   "source": [
    "1.6. Print the products in the `customer_orders` set."
   ]
  },
  {
   "cell_type": "code",
   "execution_count": 302,
   "id": "ab3a91d8-12c3-4aa4-9a0a-d72de8aa3a8e",
   "metadata": {},
   "outputs": [
    {
     "name": "stdout",
     "output_type": "stream",
     "text": [
      "{'mug', 'book', 't-shirt'}\n"
     ]
    }
   ],
   "source": [
    "print(customer_orders)"
   ]
  },
  {
   "cell_type": "markdown",
   "id": "380b58fb-2339-4191-9e90-ccad280c46b2",
   "metadata": {},
   "source": [
    "1.7.1. Calculate the following order statistics:\n",
    "- Total Products Ordered: The total number of products in the `customer_orders` set."
   ]
  },
  {
   "cell_type": "code",
   "execution_count": 304,
   "id": "1528126c-dc8a-4cbe-aee4-d5a4638735ab",
   "metadata": {},
   "outputs": [
    {
     "data": {
      "text/plain": [
       "3"
      ]
     },
     "execution_count": 304,
     "metadata": {},
     "output_type": "execute_result"
    }
   ],
   "source": [
    "total_products_ordered = len(customer_orders)\n",
    "total_products_ordered"
   ]
  },
  {
   "cell_type": "markdown",
   "id": "2b05a9c3-be33-4ce1-aad1-07e3042bb2db",
   "metadata": {},
   "source": [
    "1.7.2 Calculate the following order statistics:\n",
    "   - Percentage of Products Ordered: The percentage of products ordered compared to the total available products."
   ]
  },
  {
   "cell_type": "code",
   "execution_count": 306,
   "id": "aafdc266-e41b-4648-b093-423b7c25f510",
   "metadata": {},
   "outputs": [
    {
     "name": "stdout",
     "output_type": "stream",
     "text": [
      "[11, 9, 7, 5, 3]\n"
     ]
    },
    {
     "data": {
      "text/plain": [
       "35"
      ]
     },
     "execution_count": 306,
     "metadata": {},
     "output_type": "execute_result"
    }
   ],
   "source": [
    "print(initial_inventory)\n",
    "sum(initial_inventory)"
   ]
  },
  {
   "cell_type": "code",
   "execution_count": 307,
   "id": "20fbcb31-7260-420e-8e96-698abbb31606",
   "metadata": {},
   "outputs": [
    {
     "name": "stdout",
     "output_type": "stream",
     "text": [
      "8.57 %\n"
     ]
    }
   ],
   "source": [
    "percentage_order = (total_products_ordered / sum(initial_inventory)) * 100\n",
    "percentage_order = round(percentage_order, 2) \n",
    "print(f\"{percentage_order_products} %\")"
   ]
  },
  {
   "cell_type": "markdown",
   "id": "84e9965e-9be5-47c3-a2f5-0e2ae1de50c5",
   "metadata": {},
   "source": [
    "1.7.3 Calculate the following order statistics:   \n",
    "   Store these statistics in a tuple called `order_status`."
   ]
  },
  {
   "cell_type": "code",
   "execution_count": 309,
   "id": "111ca44d-9bbd-45b3-8823-ca13cefb26bb",
   "metadata": {},
   "outputs": [
    {
     "data": {
      "text/plain": [
       "(3, 8.57)"
      ]
     },
     "execution_count": 309,
     "metadata": {},
     "output_type": "execute_result"
    }
   ],
   "source": [
    "order_status = (total_products_ordered, percentage_order_products)\n",
    "order_status"
   ]
  },
  {
   "cell_type": "markdown",
   "id": "caad1131-eb07-4515-9117-aa18bc29f82d",
   "metadata": {},
   "source": [
    "1.8. Print the order statistics using the following format:\n",
    "   ```\n",
    "   Order Statistics:\n",
    "   Total Products Ordered: <total_products_ordered>\n",
    "   Percentage of Products Ordered: <percentage_ordered>% \n",
    "   ```"
   ]
  },
  {
   "cell_type": "code",
   "execution_count": 322,
   "id": "b0ff8b9e-4aed-4c87-9252-625c5e86dccf",
   "metadata": {},
   "outputs": [
    {
     "name": "stdout",
     "output_type": "stream",
     "text": [
      "Order Statistics:\n",
      "Total Products Ordered: 3\n",
      "Percentage of Products Ordered: 8.57 %\n"
     ]
    }
   ],
   "source": [
    "print(f\"Order Statistics:\\n\"\n",
    "f\"Total Products Ordered: {total_products_ordered}\\n\"\n",
    "f\"Percentage of Products Ordered: {percentage_order_products} %\")"
   ]
  },
  {
   "cell_type": "markdown",
   "id": "77e47031-9dbb-4bfe-8b24-08e5d7f7b07e",
   "metadata": {},
   "source": [
    "1.9. Update the inventory by subtracting 1 from the quantity of each product. Modify the `inventory` dictionary accordingly."
   ]
  },
  {
   "cell_type": "code",
   "execution_count": 324,
   "id": "4513f72a-1d8d-4e24-8473-4bfd89241cd6",
   "metadata": {},
   "outputs": [
    {
     "name": "stdout",
     "output_type": "stream",
     "text": [
      " Initial Inventory = [11, 9, 7, 5, 3]\n",
      " Customer Order = {'mug', 'book', 't-shirt'}\n",
      "Final Inventory = {'t-shirt': 10, 'mug': 8, 'hat': 7, 'book': 4, 'keychain': 3}\n"
     ]
    }
   ],
   "source": [
    "print(f\" Initial Inventory = {initial_inventory}\")\n",
    "print(f\" Customer Order = {customer_orders}\")\n",
    "\n",
    "for item in customer_orders:\n",
    "    if inventory[item] < 1:\n",
    "        print(\"Product Out of Stock\")\n",
    "    else:\n",
    "        inventory[item] -= 1\n",
    "\n",
    "print(f\"Final Inventory = {inventory}\")"
   ]
  },
  {
   "cell_type": "markdown",
   "id": "8c2c7aa1-0fcc-4c60-bb83-1a91bdf84295",
   "metadata": {},
   "source": [
    "1.10. Print the updated inventory, displaying the quantity of each product on separate lines."
   ]
  },
  {
   "cell_type": "code",
   "execution_count": 217,
   "id": "03411526-a3be-4ade-bb36-23f7fc35990a",
   "metadata": {},
   "outputs": [
    {
     "name": "stdout",
     "output_type": "stream",
     "text": [
      "For t-shirt: 11 items\n",
      "For mug: 8 items\n",
      "For hat: 6 items\n",
      "For book: 4 items\n",
      "For keychain: 3 items\n"
     ]
    }
   ],
   "source": [
    "for key, value in inventory.items():\n",
    "    print(f\"For {key}: {value} items\")"
   ]
  },
  {
   "cell_type": "markdown",
   "id": "aed12ef0-cfc2-4578-b182-6087357ef407",
   "metadata": {},
   "source": [
    "2. Instead of asking the user to input the name of three products that a customer wants to order, do the following:\n",
    "    \n",
    "    a. Prompt the user to enter the name of a product that a customer wants to order.\n",
    "    \n",
    "    b. Add the product name to the \"customer_orders\" set.\n",
    "    \n",
    "    c. Ask the user if they want to add another product (yes/no).\n",
    "    \n",
    "    d. Continue the loop until the user does not want to add another product."
   ]
  },
  {
   "cell_type": "code",
   "execution_count": 238,
   "id": "77e210ca-e7db-4d0e-9360-a7a8ca323c7b",
   "metadata": {},
   "outputs": [
    {
     "name": "stdin",
     "output_type": "stream",
     "text": [
      "Choose a product to order from : ['t-shirt', 'mug', 'hat', 'book', 'keychain']  t-shirt\n",
      "Do you want to add another product? Enter 'yes' or 'no' yes\n",
      "Choose a product to order from : ['t-shirt', 'mug', 'hat', 'book', 'keychain']  mug\n",
      "Do you want to add another product? Enter 'yes' or 'no' yes\n",
      "Choose a product to order from : ['t-shirt', 'mug', 'hat', 'book', 'keychain']  hat\n",
      "Do you want to add another product? Enter 'yes' or 'no' hat\n"
     ]
    },
    {
     "name": "stdout",
     "output_type": "stream",
     "text": [
      "Invalid product selection.\n"
     ]
    },
    {
     "name": "stdin",
     "output_type": "stream",
     "text": [
      "Do you want to add another product? Enter 'yes' or 'no' yes\n",
      "Choose a product to order from : ['t-shirt', 'mug', 'hat', 'book', 'keychain']  book\n",
      "Do you want to add another product? Enter 'yes' or 'no' no\n"
     ]
    },
    {
     "name": "stdout",
     "output_type": "stream",
     "text": [
      "{'mug', 'book', 't-shirt', 'hat'}\n"
     ]
    }
   ],
   "source": [
    "products = [\"t-shirt\", \"mug\", \"hat\", \"book\", \"keychain\"]\n",
    "ordered_items = \"\"\n",
    "selected_option = \"\"\n",
    "customer_orders = set()\n",
    "\n",
    "ordered_items = input(f\"Choose a product to order from : {products} \")\n",
    "while ordered_items not in products:\n",
    "    print(f\"Invalid product name.\")\n",
    "    ordered_items = input(f\"Choose a product to order from : {products} \")\n",
    "customer_orders.add(ordered_items)\n",
    "selected_option = input(f\"Do you want to add another product? Enter 'yes' or 'no'\")\n",
    "while selected_option != 'no':\n",
    "    if selected_option == \"yes\":\n",
    "        ordered_items = input(f\"Choose a product to order from : {products} \")\n",
    "        while ordered_items not in products:\n",
    "            print(f\"Invalid product name.\")\n",
    "            ordered_items = input(f\"Choose a product to order from : {products} \")\n",
    "        customer_orders.add(ordered_items)\n",
    "        selected_option = input(f\"Do you want to add another product? Enter 'yes' or 'no'\")\n",
    "    else:\n",
    "        print(f\"Invalid product selection.\")\n",
    "        selected_option = input(f\"Do you want to add another product? Enter 'yes' or 'no'\")\n",
    "print(customer_orders)\n"
   ]
  },
  {
   "cell_type": "markdown",
   "id": "071bdaac-e856-437b-945a-93374c9b3ce4",
   "metadata": {},
   "source": [
    "3. Instead of updating the inventory by subtracting 1 from the quantity of each product, only do it for  the products that were ordered (those in \"customer_orders\")."
   ]
  },
  {
   "cell_type": "code",
   "execution_count": 240,
   "id": "399cb15d-6e7f-4430-abdd-1c5a5a473fb0",
   "metadata": {},
   "outputs": [
    {
     "name": "stdout",
     "output_type": "stream",
     "text": [
      "[11, 9, 7, 5, 3]\n",
      "{'mug', 'book', 't-shirt', 'hat'}\n",
      "{'t-shirt': 9, 'mug': 6, 'hat': 4, 'book': 2, 'keychain': 3}\n"
     ]
    }
   ],
   "source": [
    "print(initial_inventory)\n",
    "print(customer_orders)\n",
    "\n",
    "for item in customer_orders:\n",
    "    if inventory[item] < 1:\n",
    "        print(\"Product Out of Stock\")\n",
    "    else:\n",
    "        inventory[item] -= 1\n",
    "print(inventory)"
   ]
  },
  {
   "cell_type": "code",
   "execution_count": null,
   "id": "64dc74b5-fdcd-4ac6-82ac-65f78059ae65",
   "metadata": {},
   "outputs": [],
   "source": []
  }
 ],
 "metadata": {
  "kernelspec": {
   "display_name": "Python 3 (ipykernel)",
   "language": "python",
   "name": "python3"
  },
  "language_info": {
   "codemirror_mode": {
    "name": "ipython",
    "version": 3
   },
   "file_extension": ".py",
   "mimetype": "text/x-python",
   "name": "python",
   "nbconvert_exporter": "python",
   "pygments_lexer": "ipython3",
   "version": "3.11.7"
  }
 },
 "nbformat": 4,
 "nbformat_minor": 5
}
